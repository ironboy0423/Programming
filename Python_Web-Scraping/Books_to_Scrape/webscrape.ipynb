{
 "cells": [
  {
   "cell_type": "code",
   "execution_count": 3,
   "id": "f861e211",
   "metadata": {},
   "outputs": [
    {
     "name": "stderr",
     "output_type": "stream",
     "text": [
      "F:\\ProgramData\\Anaconda\\lib\\site-packages\\numpy\\_distributor_init.py:30: UserWarning: loaded more than 1 DLL from .libs:\n",
      "F:\\ProgramData\\Anaconda\\lib\\site-packages\\numpy\\.libs\\libopenblas.PYQHXLVVQ7VESDPUVUADXEVJOBGHJPAY.gfortran-win_amd64.dll\n",
      "F:\\ProgramData\\Anaconda\\lib\\site-packages\\numpy\\.libs\\libopenblas.WCDJNK7YVMPZQ2ME2ZZHJJRJ3JIKNDB7.gfortran-win_amd64.dll\n",
      "  warnings.warn(\"loaded more than 1 DLL from .libs:\\n%s\" %\n"
     ]
    }
   ],
   "source": [
    "import requests\n",
    "from bs4 import BeautifulSoup\n",
    "\n",
    "import pandas as pd"
   ]
  },
  {
   "cell_type": "code",
   "execution_count": 4,
   "id": "75c22da5",
   "metadata": {},
   "outputs": [],
   "source": [
    "books = []\n",
    "\n",
    "for i in range(1,5):\n",
    "  url = f\"https://books.toscrape.com/catalogue/page-{i}.html\"\n",
    "  response = requests.get(url)\n",
    "  response = response.content\n",
    "  soup = BeautifulSoup(response, 'html.parser')\n",
    "  ol = soup.find('ol')\n",
    "  articles = ol.find_all('article', class_='product_pod')\n",
    "  for article in articles:\n",
    "    image = article.find('img')\n",
    "    title = image.attrs['alt']\n",
    "    starTag = article.find('p')\n",
    "    star = starTag['class'][1]\n",
    "    price = article.find('p', class_='price_color').text\n",
    "    price = float(price[1:])\n",
    "    books.append([title, star, price])"
   ]
  },
  {
   "cell_type": "code",
   "execution_count": 5,
   "id": "cb3c928d",
   "metadata": {},
   "outputs": [],
   "source": [
    "df = pd.DataFrame(books, columns=['Title', 'Star Rating', 'Price'])\n",
    "df.to_csv('books.csv')"
   ]
  }
 ],
 "metadata": {
  "kernelspec": {
   "display_name": "Python 3",
   "language": "python",
   "name": "python3"
  },
  "language_info": {
   "codemirror_mode": {
    "name": "ipython",
    "version": 3
   },
   "file_extension": ".py",
   "mimetype": "text/x-python",
   "name": "python",
   "nbconvert_exporter": "python",
   "pygments_lexer": "ipython3",
   "version": "3.8.8"
  }
 },
 "nbformat": 4,
 "nbformat_minor": 5
}
